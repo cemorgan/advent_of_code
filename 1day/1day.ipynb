{
 "cells": [
  {
   "cell_type": "code",
   "execution_count": 2,
   "metadata": {},
   "outputs": [
    {
     "name": "stdout",
     "output_type": "stream",
     "text": [
      "1616\n"
     ]
    }
   ],
   "source": [
    "file_in = open('1data.txt')\n",
    "data = file_in.read().splitlines()\n",
    "file_in.close()\n",
    "\n",
    "\n",
    "def depth_increase(li, window):\n",
    "    n = 0\n",
    "    li_int = [int(i) for i in li]\n",
    "    for i in range(len(li_int) - (window - 1)):\n",
    "        if i == 0:\n",
    "            n += 0\n",
    "        elif sum(li_int[i:i+window]) > sum(li_int[i-1:i-1+window]):\n",
    "            n += 1\n",
    "        else:\n",
    "            continue\n",
    "    print(n)\n",
    "\n",
    "\n",
    "depth_increase(data, 1)\n",
    "\n"
   ]
  },
  {
   "cell_type": "code",
   "execution_count": null,
   "metadata": {},
   "outputs": [],
   "source": []
  }
 ],
 "metadata": {
  "kernelspec": {
   "display_name": "Python 3",
   "language": "python",
   "name": "python3"
  },
  "language_info": {
   "codemirror_mode": {
    "name": "ipython",
    "version": 3
   },
   "file_extension": ".py",
   "mimetype": "text/x-python",
   "name": "python",
   "nbconvert_exporter": "python",
   "pygments_lexer": "ipython3",
   "version": "3.7.6"
  }
 },
 "nbformat": 4,
 "nbformat_minor": 4
}
