{
 "cells": [
  {
   "cell_type": "code",
   "execution_count": 81,
   "metadata": {},
   "outputs": [
    {
     "name": "stdout",
     "output_type": "stream",
     "text": [
      "1458194\n"
     ]
    }
   ],
   "source": [
    "file_in = open('3data.txt')\n",
    "data = file_in.read().splitlines()\n",
    "file_in.close\n",
    "\n",
    "\n",
    "def line_scan(x, x_dict):\n",
    "    for i in range(len(x)):\n",
    "        x_dict[i] = x_dict[i] + int(x[i])\n",
    "    return x_dict\n",
    "\n",
    "bin_dict = {0:0, 1:0, 2:0, 3:0, 4:0, 5:0, 6:0, 7:0, 8:0, 9:0, 10:0, 11:0}\n",
    "    \n",
    "gamma = ''\n",
    "epsilon = ''\n",
    "\n",
    "for i in range(len(data)):\n",
    "    line_scan(data[i], bin_dict)\n",
    "\n",
    "for key in bin_dict:\n",
    "    if bin_dict[key] >= len(data) / 2:\n",
    "        gamma += str(1)\n",
    "        epsilon += str(0)\n",
    "    else:\n",
    "        gamma += str(0)\n",
    "        epsilon += str(1)\n",
    "\n",
    "    \n",
    "print(int(gamma,2) * int(epsilon, 2))\n",
    "    \n",
    "    "
   ]
  },
  {
   "cell_type": "code",
   "execution_count": 83,
   "metadata": {},
   "outputs": [
    {
     "name": "stdout",
     "output_type": "stream",
     "text": [
      "2829354\n"
     ]
    }
   ],
   "source": [
    "oxy_data = data\n",
    "co2_data = data\n",
    "\n",
    "\n",
    "def find_most_common(index, data_list):\n",
    "    zero = one = 0\n",
    "    for i in data_list:\n",
    "        if int(i[index]) == 0:\n",
    "            zero += 1\n",
    "        else:\n",
    "            one += 1\n",
    "    if one >= zero:\n",
    "        return 1\n",
    "    else:\n",
    "        return 0\n",
    "\n",
    "\n",
    "def find_least_common(index, data_list):\n",
    "    zero = one = 0\n",
    "    for i in data_list:\n",
    "        if int(i[index]) == 0:\n",
    "            zero += 1\n",
    "        else:\n",
    "            one += 1\n",
    "    if one >= zero:\n",
    "        return 0\n",
    "    else:\n",
    "        return 1\n",
    "\n",
    "\n",
    "def remove_mismatch(reference, index, data_list):\n",
    "    if len(data_list) > 1:\n",
    "        new_data_list = [i for i in data_list if int(i[index]) == reference]\n",
    "        return new_data_list\n",
    "    else:\n",
    "        return data_list\n",
    "\n",
    "\n",
    "for x in range(12):\n",
    "    oxy_data = remove_mismatch(find_most_common(x, oxy_data), x, oxy_data)\n",
    "    co2_data = remove_mismatch(find_least_common(x, co2_data), x, co2_data)\n",
    "\n",
    "\n",
    "print(int(co2_data[0], 2) * int(oxy_data[0], 2))\n",
    "\n",
    "\n"
   ]
  },
  {
   "cell_type": "code",
   "execution_count": null,
   "metadata": {},
   "outputs": [],
   "source": []
  }
 ],
 "metadata": {
  "kernelspec": {
   "display_name": "Python 3",
   "language": "python",
   "name": "python3"
  },
  "language_info": {
   "codemirror_mode": {
    "name": "ipython",
    "version": 3
   },
   "file_extension": ".py",
   "mimetype": "text/x-python",
   "name": "python",
   "nbconvert_exporter": "python",
   "pygments_lexer": "ipython3",
   "version": "3.7.6"
  }
 },
 "nbformat": 4,
 "nbformat_minor": 4
}
