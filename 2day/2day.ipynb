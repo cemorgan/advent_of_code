{
 "cells": [
  {
   "cell_type": "code",
   "execution_count": 2,
   "metadata": {},
   "outputs": [
    {
     "name": "stdout",
     "output_type": "stream",
     "text": [
      "1698735\n"
     ]
    }
   ],
   "source": [
    "file_in = open('2data.txt')\n",
    "data = file_in.read().splitlines()\n",
    "file_in.close()\n",
    "\n",
    "h=d=0\n",
    "\n",
    "for i in range(len(data)):\n",
    "    s = data[i]\n",
    "    if s[0] == 'f':\n",
    "        h += int(s[-1])\n",
    "    elif s[0] == 'd':\n",
    "        d += int(s[-1])\n",
    "    elif s[0] == 'u':\n",
    "        d -= int(s[-1])\n",
    "    else:\n",
    "        continue\n",
    "\n",
    "print(h*d)"
   ]
  },
  {
   "cell_type": "code",
   "execution_count": 1,
   "metadata": {},
   "outputs": [
    {
     "name": "stdout",
     "output_type": "stream",
     "text": [
      "1594785890\n"
     ]
    }
   ],
   "source": [
    "file_in = open('2data.txt')\n",
    "data = file_in.read().splitlines()\n",
    "file_in.close()\n",
    "\n",
    "h=d=a=0\n",
    "\n",
    "for i in range(len(data)):\n",
    "    s = data[i]\n",
    "    if s[0] == 'f':\n",
    "        h += int(s[-1])\n",
    "        d += a * int(s[-1])\n",
    "    elif s[0] == 'd':\n",
    "        a += int(s[-1])\n",
    "    elif s[0] == 'u':\n",
    "        a -= int(s[-1])\n",
    "    else:\n",
    "        continue\n",
    "\n",
    "print(h*d)"
   ]
  },
  {
   "cell_type": "code",
   "execution_count": null,
   "metadata": {},
   "outputs": [],
   "source": []
  }
 ],
 "metadata": {
  "kernelspec": {
   "display_name": "Python 3",
   "language": "python",
   "name": "python3"
  },
  "language_info": {
   "codemirror_mode": {
    "name": "ipython",
    "version": 3
   },
   "file_extension": ".py",
   "mimetype": "text/x-python",
   "name": "python",
   "nbconvert_exporter": "python",
   "pygments_lexer": "ipython3",
   "version": "3.7.6"
  }
 },
 "nbformat": 4,
 "nbformat_minor": 4
}
